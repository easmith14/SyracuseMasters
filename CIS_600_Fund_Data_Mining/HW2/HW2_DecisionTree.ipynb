{
 "cells": [
  {
   "cell_type": "markdown",
   "id": "ba33e961",
   "metadata": {},
   "source": [
    "# HW 2 - Decision Tree Induction\n",
    "## CIS 600\n",
    "## Evan Smith"
   ]
  },
  {
   "cell_type": "markdown",
   "id": "f62a4582",
   "metadata": {},
   "source": [
    "### Data Cleaning\n",
    "First, we import the data from disk."
   ]
  },
  {
   "cell_type": "code",
   "execution_count": 82,
   "id": "5af75f1a",
   "metadata": {},
   "outputs": [],
   "source": [
    "import pandas as pd\n",
    "\n",
    "train = pd.read_csv(\"C:/Users/evana/Documents/GitHub/SyracuseMasters/CIS_600_Fund_Data_Mining/HW2/Weather Forecast Training.csv\")\n",
    "test = pd.read_csv(\"C:/Users/evana/Documents/GitHub/SyracuseMasters/CIS_600_Fund_Data_Mining/HW2/Weather Forecast Testing.csv\")"
   ]
  },
  {
   "cell_type": "markdown",
   "id": "77445c29",
   "metadata": {},
   "source": [
    "We then define a function which displays the nunmber of unique and nulls values in each column. This shows us which columns to drop due to non-variation or excessive nulls."
   ]
  },
  {
   "cell_type": "code",
   "execution_count": 83,
   "id": "08fdf520",
   "metadata": {},
   "outputs": [
    {
     "name": "stdout",
     "output_type": "stream",
     "text": [
      "Training Data Report\n"
     ]
    },
    {
     "data": {
      "text/html": [
       "<div>\n",
       "<style scoped>\n",
       "    .dataframe tbody tr th:only-of-type {\n",
       "        vertical-align: middle;\n",
       "    }\n",
       "\n",
       "    .dataframe tbody tr th {\n",
       "        vertical-align: top;\n",
       "    }\n",
       "\n",
       "    .dataframe thead th {\n",
       "        text-align: right;\n",
       "    }\n",
       "</style>\n",
       "<table border=\"1\" class=\"dataframe\">\n",
       "  <thead>\n",
       "    <tr style=\"text-align: right;\">\n",
       "      <th></th>\n",
       "      <th>Column</th>\n",
       "      <th>Unique Values</th>\n",
       "      <th>Nulls</th>\n",
       "    </tr>\n",
       "  </thead>\n",
       "  <tbody>\n",
       "    <tr>\n",
       "      <th>0</th>\n",
       "      <td>MinTemp</td>\n",
       "      <td>372</td>\n",
       "      <td>284</td>\n",
       "    </tr>\n",
       "    <tr>\n",
       "      <th>1</th>\n",
       "      <td>MaxTemp</td>\n",
       "      <td>484</td>\n",
       "      <td>129</td>\n",
       "    </tr>\n",
       "    <tr>\n",
       "      <th>2</th>\n",
       "      <td>Rainfall</td>\n",
       "      <td>599</td>\n",
       "      <td>747</td>\n",
       "    </tr>\n",
       "    <tr>\n",
       "      <th>3</th>\n",
       "      <td>Evaporation</td>\n",
       "      <td>270</td>\n",
       "      <td>22553</td>\n",
       "    </tr>\n",
       "    <tr>\n",
       "      <th>4</th>\n",
       "      <td>Sunshine</td>\n",
       "      <td>144</td>\n",
       "      <td>24875</td>\n",
       "    </tr>\n",
       "    <tr>\n",
       "      <th>5</th>\n",
       "      <td>WindGustDir</td>\n",
       "      <td>16</td>\n",
       "      <td>3598</td>\n",
       "    </tr>\n",
       "    <tr>\n",
       "      <th>6</th>\n",
       "      <td>WindGustSpeed</td>\n",
       "      <td>66</td>\n",
       "      <td>3571</td>\n",
       "    </tr>\n",
       "    <tr>\n",
       "      <th>7</th>\n",
       "      <td>WindDir</td>\n",
       "      <td>16</td>\n",
       "      <td>1513</td>\n",
       "    </tr>\n",
       "    <tr>\n",
       "      <th>8</th>\n",
       "      <td>WindSpeed</td>\n",
       "      <td>40</td>\n",
       "      <td>1024</td>\n",
       "    </tr>\n",
       "    <tr>\n",
       "      <th>9</th>\n",
       "      <td>Humidity</td>\n",
       "      <td>100</td>\n",
       "      <td>1429</td>\n",
       "    </tr>\n",
       "    <tr>\n",
       "      <th>10</th>\n",
       "      <td>Pressure</td>\n",
       "      <td>523</td>\n",
       "      <td>5066</td>\n",
       "    </tr>\n",
       "    <tr>\n",
       "      <th>11</th>\n",
       "      <td>Cloud</td>\n",
       "      <td>9</td>\n",
       "      <td>20130</td>\n",
       "    </tr>\n",
       "    <tr>\n",
       "      <th>12</th>\n",
       "      <td>Temp</td>\n",
       "      <td>479</td>\n",
       "      <td>1063</td>\n",
       "    </tr>\n",
       "    <tr>\n",
       "      <th>13</th>\n",
       "      <td>RainToday</td>\n",
       "      <td>2</td>\n",
       "      <td>747</td>\n",
       "    </tr>\n",
       "  </tbody>\n",
       "</table>\n",
       "</div>"
      ],
      "text/plain": [
       "           Column  Unique Values  Nulls\n",
       "0         MinTemp            372    284\n",
       "1         MaxTemp            484    129\n",
       "2        Rainfall            599    747\n",
       "3     Evaporation            270  22553\n",
       "4        Sunshine            144  24875\n",
       "5     WindGustDir             16   3598\n",
       "6   WindGustSpeed             66   3571\n",
       "7         WindDir             16   1513\n",
       "8       WindSpeed             40   1024\n",
       "9        Humidity            100   1429\n",
       "10       Pressure            523   5066\n",
       "11          Cloud              9  20130\n",
       "12           Temp            479   1063\n",
       "13      RainToday              2    747"
      ]
     },
     "metadata": {},
     "output_type": "display_data"
    },
    {
     "name": "stdout",
     "output_type": "stream",
     "text": [
      "Testing Data Report\n"
     ]
    },
    {
     "data": {
      "text/html": [
       "<div>\n",
       "<style scoped>\n",
       "    .dataframe tbody tr th:only-of-type {\n",
       "        vertical-align: middle;\n",
       "    }\n",
       "\n",
       "    .dataframe tbody tr th {\n",
       "        vertical-align: top;\n",
       "    }\n",
       "\n",
       "    .dataframe thead th {\n",
       "        text-align: right;\n",
       "    }\n",
       "</style>\n",
       "<table border=\"1\" class=\"dataframe\">\n",
       "  <thead>\n",
       "    <tr style=\"text-align: right;\">\n",
       "      <th></th>\n",
       "      <th>Column</th>\n",
       "      <th>Unique Values</th>\n",
       "      <th>Nulls</th>\n",
       "    </tr>\n",
       "  </thead>\n",
       "  <tbody>\n",
       "    <tr>\n",
       "      <th>0</th>\n",
       "      <td>MinTemp</td>\n",
       "      <td>350</td>\n",
       "      <td>47</td>\n",
       "    </tr>\n",
       "    <tr>\n",
       "      <th>1</th>\n",
       "      <td>MaxTemp</td>\n",
       "      <td>436</td>\n",
       "      <td>18</td>\n",
       "    </tr>\n",
       "    <tr>\n",
       "      <th>2</th>\n",
       "      <td>Rainfall</td>\n",
       "      <td>376</td>\n",
       "      <td>161</td>\n",
       "    </tr>\n",
       "    <tr>\n",
       "      <th>3</th>\n",
       "      <td>Evaporation</td>\n",
       "      <td>185</td>\n",
       "      <td>5516</td>\n",
       "    </tr>\n",
       "    <tr>\n",
       "      <th>4</th>\n",
       "      <td>Sunshine</td>\n",
       "      <td>140</td>\n",
       "      <td>6094</td>\n",
       "    </tr>\n",
       "    <tr>\n",
       "      <th>5</th>\n",
       "      <td>WindGustDir</td>\n",
       "      <td>16</td>\n",
       "      <td>929</td>\n",
       "    </tr>\n",
       "    <tr>\n",
       "      <th>6</th>\n",
       "      <td>WindGustSpeed</td>\n",
       "      <td>60</td>\n",
       "      <td>920</td>\n",
       "    </tr>\n",
       "    <tr>\n",
       "      <th>7</th>\n",
       "      <td>WindDir</td>\n",
       "      <td>16</td>\n",
       "      <td>387</td>\n",
       "    </tr>\n",
       "    <tr>\n",
       "      <th>8</th>\n",
       "      <td>WindSpeed</td>\n",
       "      <td>39</td>\n",
       "      <td>261</td>\n",
       "    </tr>\n",
       "    <tr>\n",
       "      <th>9</th>\n",
       "      <td>Humidity</td>\n",
       "      <td>100</td>\n",
       "      <td>349</td>\n",
       "    </tr>\n",
       "    <tr>\n",
       "      <th>10</th>\n",
       "      <td>Pressure</td>\n",
       "      <td>465</td>\n",
       "      <td>1293</td>\n",
       "    </tr>\n",
       "    <tr>\n",
       "      <th>11</th>\n",
       "      <td>Cloud</td>\n",
       "      <td>9</td>\n",
       "      <td>5020</td>\n",
       "    </tr>\n",
       "    <tr>\n",
       "      <th>12</th>\n",
       "      <td>Temp</td>\n",
       "      <td>433</td>\n",
       "      <td>267</td>\n",
       "    </tr>\n",
       "    <tr>\n",
       "      <th>13</th>\n",
       "      <td>RainToday</td>\n",
       "      <td>2</td>\n",
       "      <td>161</td>\n",
       "    </tr>\n",
       "  </tbody>\n",
       "</table>\n",
       "</div>"
      ],
      "text/plain": [
       "           Column  Unique Values  Nulls\n",
       "0         MinTemp            350     47\n",
       "1         MaxTemp            436     18\n",
       "2        Rainfall            376    161\n",
       "3     Evaporation            185   5516\n",
       "4        Sunshine            140   6094\n",
       "5     WindGustDir             16    929\n",
       "6   WindGustSpeed             60    920\n",
       "7         WindDir             16    387\n",
       "8       WindSpeed             39    261\n",
       "9        Humidity            100    349\n",
       "10       Pressure            465   1293\n",
       "11          Cloud              9   5020\n",
       "12           Temp            433    267\n",
       "13      RainToday              2    161"
      ]
     },
     "metadata": {},
     "output_type": "display_data"
    }
   ],
   "source": [
    "def DisplayNullRows (df):\n",
    "    dataCleaningCounts = []\n",
    "    for col in df.columns:\n",
    "        nullsCount = df[col].isnull().sum()\n",
    "        if nullsCount > 0:\n",
    "            dataCleaningCounts.append([col, df[col].nunique(), nullsCount])\n",
    "    display(pd.DataFrame(dataCleaningCounts, columns = ['Column', 'Unique Values', 'Nulls']))\n",
    "    return\n",
    "\n",
    "print(\"Training Data Report\")\n",
    "DisplayNullRows(train)\n",
    "print(\"Testing Data Report\")\n",
    "DisplayNullRows(test)"
   ]
  },
  {
   "cell_type": "markdown",
   "id": "6b105291",
   "metadata": {},
   "source": [
    "Based on the results, we expect all columns have interesting information, but `Evaporation`, `Sunshine`, and `Cloud` have too many null rows to be useful, so we drop those columns. For the remaining rows, we drop all nulls."
   ]
  },
  {
   "cell_type": "code",
   "execution_count": 84,
   "id": "2adf241b",
   "metadata": {},
   "outputs": [
    {
     "data": {
      "text/plain": [
       "Index(['Location', 'MinTemp', 'MaxTemp', 'Rainfall', 'WindGustDir',\n",
       "       'WindGustSpeed', 'WindDir', 'WindSpeed', 'Humidity', 'Pressure', 'Temp',\n",
       "       'RainToday', 'RainTomorrow'],\n",
       "      dtype='object')"
      ]
     },
     "metadata": {},
     "output_type": "display_data"
    }
   ],
   "source": [
    "manyNullsColumns = [\"Evaporation\", \"Sunshine\", \"Cloud\"]\n",
    "\n",
    "train.drop(columns= manyNullsColumns, inplace=True)\n",
    "train.dropna(inplace = True)\n",
    "\n",
    "test.drop(columns= manyNullsColumns, inplace=True)\n",
    "test.dropna(inplace = True)\n",
    "\n",
    "display(train.columns)"
   ]
  },
  {
   "cell_type": "markdown",
   "id": "2f7f3954",
   "metadata": {},
   "source": [
    "Now, we must numerize the relevant columns in the data. The affected columns are `Location`, `WindGustDir`, `WindDir`, `RainToday`, and `RainTomorrow`. "
   ]
  },
  {
   "cell_type": "code",
   "execution_count": 85,
   "id": "8e72a88d",
   "metadata": {},
   "outputs": [],
   "source": [
    "from sklearn.preprocessing import LabelEncoder\n",
    "\n",
    "def NumerizeObjectColumns(df):\n",
    "\n",
    "    le = LabelEncoder()\n",
    "    \n",
    "    cols_to_encode = df.select_dtypes(['object']).columns\n",
    "    df[cols_to_encode] = df[cols_to_encode].apply(le.fit_transform)\n",
    "    return\n",
    "\n",
    "NumerizeObjectColumns(train)\n",
    "NumerizeObjectColumns(test)"
   ]
  },
  {
   "cell_type": "markdown",
   "id": "84c1e151",
   "metadata": {},
   "source": [
    "### Decision Tree Training\n",
    "\n",
    "We make the decision tree first, using a standard splitting procedure to generate testing and verification data. "
   ]
  },
  {
   "cell_type": "code",
   "execution_count": 129,
   "id": "14d5ce71",
   "metadata": {},
   "outputs": [
    {
     "name": "stdout",
     "output_type": "stream",
     "text": [
      "train data size is (30299, 12)\n"
     ]
    }
   ],
   "source": [
    "import numpy as np\n",
    "from sklearn.tree import DecisionTreeClassifier\n",
    "from sklearn.model_selection import train_test_split, GridSearchCV\n",
    "from sklearn import metrics\n",
    "np.random.seed(1)\n",
    "\n",
    "## Model Training\n",
    "\n",
    "X = train.drop('RainTomorrow', axis=1)\n",
    "y = train['RainTomorrow']\n",
    "X_train, X_test, y_train, y_test = train_test_split(X, y, test_size=0.3, random_state=1)\n",
    "print(f\"train data size is {X_train.shape}\")\n",
    "\n",
    "clf = DecisionTreeClassifier()"
   ]
  },
  {
   "cell_type": "markdown",
   "id": "0846bd46",
   "metadata": {},
   "source": [
    "Using the basic, default settings of the classifier, we can see the baseline performance of the classifier."
   ]
  },
  {
   "cell_type": "code",
   "execution_count": 130,
   "id": "8846fcbe",
   "metadata": {},
   "outputs": [
    {
     "name": "stdout",
     "output_type": "stream",
     "text": [
      "Accuracy: 72.05%\n"
     ]
    }
   ],
   "source": [
    "clf.fit(X_train, y_train)\n",
    "y_pred = clf.predict(X_test)\n",
    "clf.tree_.max_depth\n",
    "print(f\"Accuracy: {round(metrics.accuracy_score(y_test, y_pred)*100,2)}%\")"
   ]
  },
  {
   "cell_type": "markdown",
   "id": "92024d0c",
   "metadata": {},
   "source": [
    "After establishing the baseline, we now want to tune the hyperparameters of the model to attempt to get the best accuracy on the training data. This is first done with a wide range of values, and then later fleshed out by getting more precise in the regions around the preferred hyperparameters at each step. "
   ]
  },
  {
   "cell_type": "code",
   "execution_count": 105,
   "id": "c6aa73f8",
   "metadata": {},
   "outputs": [
    {
     "data": {
      "text/plain": [
       "GridSearchCV(cv=10, estimator=DecisionTreeClassifier(),\n",
       "             param_grid={'criterion': ['gini', 'entropy'],\n",
       "                         'max_depth': [5, 10, 20, 25, 30],\n",
       "                         'max_leaf_nodes': [2, 5, 10, 20],\n",
       "                         'min_samples_leaf': [1, 5, 10],\n",
       "                         'min_samples_split': [2, 10, 20]},\n",
       "             scoring='accuracy')"
      ]
     },
     "execution_count": 105,
     "metadata": {},
     "output_type": "execute_result"
    }
   ],
   "source": [
    "## Model Hyperparameter Fine Tuning\n",
    "\n",
    "param_grid = {'criterion': ['gini', 'entropy'],\n",
    "              'min_samples_split': [2, 10, 20],\n",
    "              'max_depth': [5, 10, 20, 25, 30],\n",
    "              'min_samples_leaf': [1, 5, 10],\n",
    "              'max_leaf_nodes': [2, 5, 10, 20]}\n",
    "grid = GridSearchCV(clf, param_grid, cv=10, scoring='accuracy')\n",
    "grid.fit(X_train, y_train)"
   ]
  },
  {
   "cell_type": "code",
   "execution_count": 107,
   "id": "bc792600",
   "metadata": {
    "scrolled": true
   },
   "outputs": [
    {
     "name": "stdout",
     "output_type": "stream",
     "text": [
      "Accuracy: 76.95%\n",
      "criterion: gini\n",
      "max_depth: 10\n",
      "max_leaf_nodes: 20\n",
      "min_samples_leaf: 1\n",
      "min_samples_split: 2\n"
     ]
    }
   ],
   "source": [
    "## Output Best Model Hyperparameters\n",
    "print(f\"Accuracy: {round(grid.best_score_*100, 2)}%\")\n",
    "for hps, values in grid.best_params_.items():\n",
    "  print(f\"{hps}: {values}\")"
   ]
  },
  {
   "cell_type": "markdown",
   "id": "a58fd014",
   "metadata": {},
   "source": [
    "We can now adjust the values in the hyperparameter grid to find better options. Only the final adjusted grid search is shown below."
   ]
  },
  {
   "cell_type": "code",
   "execution_count": 108,
   "id": "75c8efe7",
   "metadata": {},
   "outputs": [
    {
     "name": "stdout",
     "output_type": "stream",
     "text": [
      "Accuracy: 77.23%\n",
      "criterion: gini\n",
      "max_depth: 24\n",
      "max_leaf_nodes: 32\n",
      "min_samples_leaf: 1\n",
      "min_samples_split: 2\n"
     ]
    }
   ],
   "source": [
    "## Model Hyperparameter Fine Tuning\n",
    "\n",
    "param_grid = {'criterion': ['gini', 'entropy'],\n",
    "              'min_samples_split': [2],\n",
    "              'max_depth': [24, 25, 26, 27, 28],\n",
    "              'min_samples_leaf': [1],\n",
    "              'max_leaf_nodes': [32, 33, 34]}\n",
    "grid = GridSearchCV(clf, param_grid, cv=10, scoring='accuracy')\n",
    "grid.fit(X_train, y_train)\n",
    "\n",
    "## Output Best Model Hyperparameters\n",
    "print(f\"Accuracy: {round(grid.best_score_*100, 2)}%\")\n",
    "for hps, values in grid.best_params_.items():\n",
    "  print(f\"{hps}: {values}\")"
   ]
  },
  {
   "cell_type": "markdown",
   "id": "154d5940",
   "metadata": {},
   "source": [
    "As can be seen here, we are able to produce an improvement using tuning up about 5.18% in accuracy. "
   ]
  },
  {
   "cell_type": "markdown",
   "id": "95675f17",
   "metadata": {},
   "source": [
    "### Examining The Tree\n",
    "We can now visualize the final tree and discuss some basic takeaways of the exercise. "
   ]
  },
  {
   "cell_type": "code",
   "execution_count": 128,
   "id": "e512283d",
   "metadata": {},
   "outputs": [
    {
     "name": "stdout",
     "output_type": "stream",
     "text": [
      "|--- Humidity <= 63.50\n",
      "|   |--- WindGustSpeed <= 51.00\n",
      "|   |   |--- Humidity <= 52.50\n",
      "|   |   |   |--- Pressure <= 1011.65\n",
      "|   |   |   |   |--- truncated branch of depth 21\n",
      "|   |   |   |--- Pressure >  1011.65\n",
      "|   |   |   |   |--- truncated branch of depth 25\n",
      "|   |   |--- Humidity >  52.50\n",
      "|   |   |   |--- Pressure <= 1014.35\n",
      "|   |   |   |   |--- truncated branch of depth 19\n",
      "|   |   |   |--- Pressure >  1014.35\n",
      "|   |   |   |   |--- truncated branch of depth 24\n",
      "|   |--- WindGustSpeed >  51.00\n",
      "|   |   |--- Humidity <= 44.50\n",
      "|   |   |   |--- Pressure <= 1008.85\n",
      "|   |   |   |   |--- truncated branch of depth 24\n",
      "|   |   |   |--- Pressure >  1008.85\n",
      "|   |   |   |   |--- truncated branch of depth 20\n",
      "|   |   |--- Humidity >  44.50\n",
      "|   |   |   |--- Pressure <= 1013.75\n",
      "|   |   |   |   |--- truncated branch of depth 21\n",
      "|   |   |   |--- Pressure >  1013.75\n",
      "|   |   |   |   |--- truncated branch of depth 20\n",
      "|--- Humidity >  63.50\n",
      "|   |--- Humidity <= 75.50\n",
      "|   |   |--- WindGustSpeed <= 36.00\n",
      "|   |   |   |--- Pressure <= 1019.45\n",
      "|   |   |   |   |--- truncated branch of depth 20\n",
      "|   |   |   |--- Pressure >  1019.45\n",
      "|   |   |   |   |--- truncated branch of depth 19\n",
      "|   |   |--- WindGustSpeed >  36.00\n",
      "|   |   |   |--- Rainfall <= 2.10\n",
      "|   |   |   |   |--- truncated branch of depth 17\n",
      "|   |   |   |--- Rainfall >  2.10\n",
      "|   |   |   |   |--- truncated branch of depth 24\n",
      "|   |--- Humidity >  75.50\n",
      "|   |   |--- Humidity <= 84.50\n",
      "|   |   |   |--- WindGustSpeed <= 30.50\n",
      "|   |   |   |   |--- truncated branch of depth 19\n",
      "|   |   |   |--- WindGustSpeed >  30.50\n",
      "|   |   |   |   |--- truncated branch of depth 20\n",
      "|   |   |--- Humidity >  84.50\n",
      "|   |   |   |--- Pressure <= 1023.05\n",
      "|   |   |   |   |--- truncated branch of depth 20\n",
      "|   |   |   |--- Pressure >  1023.05\n",
      "|   |   |   |   |--- truncated branch of depth 12\n",
      "\n"
     ]
    }
   ],
   "source": [
    "from sklearn.tree import export_text\n",
    "\n",
    "r = export_text(clf, feature_names = list(X_train.columns), max_depth = 3)\n",
    "print(r)"
   ]
  },
  {
   "cell_type": "markdown",
   "id": "85ae3b99",
   "metadata": {},
   "source": [
    "A great benefit of using Decision Trees is that the decision making process of the model is transparent to human readers. Here we can see that the highest-level categorization techniques the model uses are based on `Humidity`, `WindGustSpeed`, and `Rainfall`. These are intuitive, and are likely similar paths that a human might take when approaching the problem. "
   ]
  },
  {
   "cell_type": "markdown",
   "id": "916948ac",
   "metadata": {},
   "source": [
    "### Producing Output Set\n",
    "\n",
    "We now run the tuned model against the test set which has no known correct classifications. This file is saved to disk."
   ]
  },
  {
   "cell_type": "code",
   "execution_count": 146,
   "id": "540ba40b",
   "metadata": {},
   "outputs": [],
   "source": [
    "test_data = test.drop('ID', axis=1)\n",
    "pred = grid.predict(test_data)\n",
    "\n",
    "frame = {'ID': test['ID'], 'DT' : pred}\n",
    "outputData = pd.DataFrame(frame)\n",
    "outputData.to_csv('output_predictions.csv', index=False)"
   ]
  }
 ],
 "metadata": {
  "kernelspec": {
   "display_name": "Python 3 (ipykernel)",
   "language": "python",
   "name": "python3"
  },
  "language_info": {
   "codemirror_mode": {
    "name": "ipython",
    "version": 3
   },
   "file_extension": ".py",
   "mimetype": "text/x-python",
   "name": "python",
   "nbconvert_exporter": "python",
   "pygments_lexer": "ipython3",
   "version": "3.9.7"
  }
 },
 "nbformat": 4,
 "nbformat_minor": 5
}
